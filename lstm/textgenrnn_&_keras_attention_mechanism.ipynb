{
  "nbformat": 4,
  "nbformat_minor": 0,
  "metadata": {
    "colab": {
      "name": "textgenrnn & keras attention mechanism.ipynb",
      "provenance": [],
      "collapsed_sections": []
    },
    "kernelspec": {
      "name": "python3",
      "display_name": "Python 3"
    },
    "accelerator": "GPU"
  },
  "cells": [
    {
      "cell_type": "code",
      "metadata": {
        "id": "tVsatKMbxbyA",
        "colab_type": "code",
        "colab": {
          "base_uri": "https://localhost:8080/",
          "height": 127
        },
        "outputId": "8a6e893c-93ad-4146-ea32-5efea4d6ef0b"
      },
      "source": [
        "from google.colab import drive\n",
        "drive.mount('/content/drive')"
      ],
      "execution_count": 1,
      "outputs": [
        {
          "output_type": "stream",
          "text": [
            "Go to this URL in a browser: https://accounts.google.com/o/oauth2/auth?client_id=947318989803-6bn6qk8qdgf4n4g3pfee6491hc0brc4i.apps.googleusercontent.com&redirect_uri=urn%3aietf%3awg%3aoauth%3a2.0%3aoob&response_type=code&scope=email%20https%3a%2f%2fwww.googleapis.com%2fauth%2fdocs.test%20https%3a%2f%2fwww.googleapis.com%2fauth%2fdrive%20https%3a%2f%2fwww.googleapis.com%2fauth%2fdrive.photos.readonly%20https%3a%2f%2fwww.googleapis.com%2fauth%2fpeopleapi.readonly\n",
            "\n",
            "Enter your authorization code:\n",
            "··········\n",
            "Mounted at /content/drive\n"
          ],
          "name": "stdout"
        }
      ]
    },
    {
      "cell_type": "code",
      "metadata": {
        "id": "w2vI82rBxhX7",
        "colab_type": "code",
        "colab": {}
      },
      "source": [
        "!pip install textgenrnn"
      ],
      "execution_count": 0,
      "outputs": []
    },
    {
      "cell_type": "code",
      "metadata": {
        "id": "_olDNxWc7MFP",
        "colab_type": "code",
        "colab": {}
      },
      "source": [
        "!pip install keract"
      ],
      "execution_count": 0,
      "outputs": []
    },
    {
      "cell_type": "code",
      "metadata": {
        "id": "jJvSdR0LxodK",
        "colab_type": "code",
        "colab": {}
      },
      "source": [
        "file = \"/content/drive/My Drive/Christmas-Carol-Generator-master/lyrics/All I Want For Christmas Is You.txt\""
      ],
      "execution_count": 0,
      "outputs": []
    },
    {
      "cell_type": "markdown",
      "metadata": {
        "id": "3InYwr-O3TaH",
        "colab_type": "text"
      },
      "source": [
        "## textgenrnn\n",
        "https://github.com/minimaxir/textgenrnn"
      ]
    },
    {
      "cell_type": "code",
      "metadata": {
        "id": "3udXN6Ckxsgy",
        "colab_type": "code",
        "colab": {}
      },
      "source": [
        "from textgenrnn import textgenrnn\n",
        "textgen = textgenrnn()\n",
        "textgen.train_from_file(file, num_epochs=100)"
      ],
      "execution_count": 0,
      "outputs": []
    },
    {
      "cell_type": "code",
      "metadata": {
        "id": "B7NA_K5EyVes",
        "colab_type": "code",
        "colab": {
          "base_uri": "https://localhost:8080/",
          "height": 197
        },
        "outputId": "33e35825-1266-457c-96b4-3889bb2903f4"
      },
      "source": [
        "for _ in range(5):\n",
        "  textgen.generate()"
      ],
      "execution_count": 16,
      "outputs": [
        {
          "output_type": "stream",
          "text": [
            "I just wanna keep on waiting\n",
            "\n",
            "I don't want a lot for Christmas\n",
            "\n",
            "There upon the fireplace\n",
            "\n",
            "I don't want a lot for Christmas\n",
            "\n",
            "All I want for Christmas is you, baby\n",
            "\n"
          ],
          "name": "stdout"
        }
      ]
    },
    {
      "cell_type": "markdown",
      "metadata": {
        "id": "1XuM1oAr3bUJ",
        "colab_type": "text"
      },
      "source": [
        "## keras attention mechanism\n",
        "https://github.com/philipperemy/keras-attention-mechanism"
      ]
    },
    {
      "cell_type": "code",
      "metadata": {
        "id": "nqRQGGCPy2lN",
        "colab_type": "code",
        "colab": {}
      },
      "source": [
        "from tensorflow.keras.layers import Dense, Lambda, dot, Activation, concatenate\n",
        "\n",
        "\n",
        "def attention_3d_block(hidden_states):\n",
        "    # @author: felixhao28.\n",
        "    # hidden_states.shape = (batch_size, time_steps, hidden_size)\n",
        "    hidden_size = int(hidden_states.shape[2])\n",
        "    # Inside dense layer\n",
        "    #              hidden_states            dot               W            =>           score_first_part\n",
        "    # (batch_size, time_steps, hidden_size) dot (hidden_size, hidden_size) => (batch_size, time_steps, hidden_size)\n",
        "    # W is the trainable weight matrix of attention Luong's multiplicative style score\n",
        "    score_first_part = Dense(hidden_size, use_bias=False, name='attention_score_vec')(hidden_states)\n",
        "    #            score_first_part           dot        last_hidden_state     => attention_weights\n",
        "    # (batch_size, time_steps, hidden_size) dot   (batch_size, hidden_size)  => (batch_size, time_steps)\n",
        "    h_t = Lambda(lambda x: x[:, -1, :], output_shape=(hidden_size,), name='last_hidden_state')(hidden_states)\n",
        "    score = dot([score_first_part, h_t], [2, 1], name='attention_score')\n",
        "    attention_weights = Activation('softmax', name='attention_weight')(score)\n",
        "    # (batch_size, time_steps, hidden_size) dot (batch_size, time_steps) => (batch_size, hidden_size)\n",
        "    context_vector = dot([hidden_states, attention_weights], [1, 1], name='context_vector')\n",
        "    pre_activation = concatenate([context_vector, h_t], name='attention_output')\n",
        "    attention_vector = Dense(128, use_bias=False, activation='tanh', name='attention_vector')(pre_activation)\n",
        "    return attention_vector"
      ],
      "execution_count": 0,
      "outputs": []
    },
    {
      "cell_type": "code",
      "metadata": {
        "id": "LvjNUMNj2RT8",
        "colab_type": "code",
        "colab": {}
      },
      "source": [
        "import matplotlib.pyplot as plt\n",
        "import numpy as np\n",
        "import pandas as pd\n",
        "from keract import get_activations\n",
        "from tensorflow.keras import Input, Model\n",
        "from tensorflow.keras.layers import Dense\n",
        "from tensorflow.keras.layers import LSTM\n",
        "\n",
        "INPUT_DIM = 100\n",
        "TIME_STEPS = 20\n",
        "\n",
        "def get_data_recurrent(n, time_steps, input_dim, attention_column=10):\n",
        "    \"\"\"\n",
        "    Data generation. x is purely random except that it's first value equals the target y.\n",
        "    In practice, the network should learn that the target = x[attention_column].\n",
        "    Therefore, most of its attention should be focused on the value addressed by attention_column.\n",
        "    :param n: the number of samples to retrieve.\n",
        "    :param time_steps: the number of time steps of your series.\n",
        "    :param input_dim: the number of dimensions of each element in the series.\n",
        "    :param attention_column: the column linked to the target. Everything else is purely random.\n",
        "    :return: x: model inputs, y: model targets\n",
        "    \"\"\"\n",
        "    x = np.random.randint(input_dim, size=(n, time_steps))\n",
        "    x = np.eye(input_dim)[x]\n",
        "    y = x[:, attention_column, :]\n",
        "    return x, y\n",
        "\n",
        "\n",
        "def get_model():\n",
        "    inputs = Input(shape=(TIME_STEPS, INPUT_DIM,))\n",
        "    rnn_out = LSTM(32, return_sequences=True)(inputs)\n",
        "    attention_output = attention_3d_block(rnn_out)\n",
        "    output = Dense(INPUT_DIM, activation='sigmoid', name='output')(attention_output)\n",
        "    m = Model(inputs=[inputs], outputs=[output])\n",
        "    print(m.summary())\n",
        "    return m"
      ],
      "execution_count": 0,
      "outputs": []
    },
    {
      "cell_type": "code",
      "metadata": {
        "id": "m5gCkx6z5Ijx",
        "colab_type": "code",
        "colab": {
          "base_uri": "https://localhost:8080/",
          "height": 701
        },
        "outputId": "df9c31f9-d55b-4826-a8b6-59dac284380f"
      },
      "source": [
        "n = 300000\n",
        "inputs, outputs = get_data_recurrent(n, TIME_STEPS, INPUT_DIM)\n",
        "\n",
        "m = get_model()\n",
        "m.compile(optimizer='adam', loss='categorical_crossentropy', metrics=['accuracy'])\n",
        "    \n",
        "m.fit(x=[inputs], y=outputs, epochs=2, batch_size=64, validation_split=0)"
      ],
      "execution_count": 12,
      "outputs": [
        {
          "output_type": "stream",
          "text": [
            "Model: \"model\"\n",
            "__________________________________________________________________________________________________\n",
            "Layer (type)                    Output Shape         Param #     Connected to                     \n",
            "==================================================================================================\n",
            "input_1 (InputLayer)            [(None, 20, 100)]    0                                            \n",
            "__________________________________________________________________________________________________\n",
            "lstm (LSTM)                     (None, 20, 32)       17024       input_1[0][0]                    \n",
            "__________________________________________________________________________________________________\n",
            "attention_score_vec (Dense)     (None, 20, 32)       1024        lstm[0][0]                       \n",
            "__________________________________________________________________________________________________\n",
            "last_hidden_state (Lambda)      (None, 32)           0           lstm[0][0]                       \n",
            "__________________________________________________________________________________________________\n",
            "attention_score (Dot)           (None, 20)           0           attention_score_vec[0][0]        \n",
            "                                                                 last_hidden_state[0][0]          \n",
            "__________________________________________________________________________________________________\n",
            "attention_weight (Activation)   (None, 20)           0           attention_score[0][0]            \n",
            "__________________________________________________________________________________________________\n",
            "context_vector (Dot)            (None, 32)           0           lstm[0][0]                       \n",
            "                                                                 attention_weight[0][0]           \n",
            "__________________________________________________________________________________________________\n",
            "attention_output (Concatenate)  (None, 64)           0           context_vector[0][0]             \n",
            "                                                                 last_hidden_state[0][0]          \n",
            "__________________________________________________________________________________________________\n",
            "attention_vector (Dense)        (None, 128)          8192        attention_output[0][0]           \n",
            "__________________________________________________________________________________________________\n",
            "output (Dense)                  (None, 100)          12900       attention_vector[0][0]           \n",
            "==================================================================================================\n",
            "Total params: 39,140\n",
            "Trainable params: 39,140\n",
            "Non-trainable params: 0\n",
            "__________________________________________________________________________________________________\n",
            "None\n",
            "Train on 300000 samples\n",
            "Epoch 1/2\n",
            "300000/300000 [==============================] - 35s 117us/sample - loss: 1.1309 - accuracy: 0.7668\n",
            "Epoch 2/2\n",
            "300000/300000 [==============================] - 27s 91us/sample - loss: 0.0014 - accuracy: 1.0000\n"
          ],
          "name": "stdout"
        },
        {
          "output_type": "execute_result",
          "data": {
            "text/plain": [
              "<tensorflow.python.keras.callbacks.History at 0x7fd9ba6f8dd8>"
            ]
          },
          "metadata": {
            "tags": []
          },
          "execution_count": 12
        }
      ]
    },
    {
      "cell_type": "code",
      "metadata": {
        "id": "MremXD5D5LFO",
        "colab_type": "code",
        "colab": {}
      },
      "source": [
        "num_simulations = 10\n",
        "attention_vectors = np.zeros(shape=(num_simulations, TIME_STEPS))\n",
        "for i in range(num_simulations):\n",
        "    testing_inputs_1, testing_outputs = get_data_recurrent(1, TIME_STEPS, INPUT_DIM)\n",
        "    activations = get_activations(m, testing_inputs_1, layer_name='attention_weight')\n",
        "    #activations = K.function([m.layers[0].input], [m.layers[1].output])\n",
        "    attention_vec = np.mean(activations['attention_weight'], axis=0).squeeze()\n",
        "    assert np.abs(np.sum(attention_vec) - 1.0) < 1e-5\n",
        "    attention_vectors[i] = attention_vec"
      ],
      "execution_count": 0,
      "outputs": []
    },
    {
      "cell_type": "code",
      "metadata": {
        "id": "z-Pc2qqU6Wc2",
        "colab_type": "code",
        "colab": {
          "base_uri": "https://localhost:8080/",
          "height": 284
        },
        "outputId": "27cacbea-8d75-4191-884e-c2651574459c"
      },
      "source": [
        "attention_vector_final = np.mean(attention_vectors, axis=0)\n",
        "attention_df = pd.DataFrame(attention_vector_final, columns=['attention (%)'])\n",
        "attention_df.plot(kind='bar', title='Attention Mechanism as a function of input dimensions.')\n",
        "plt.show()"
      ],
      "execution_count": 16,
      "outputs": [
        {
          "output_type": "display_data",
          "data": {
            "image/png": "[encoded data removed]",
            "text/plain": [
              "<Figure size 432x288 with 1 Axes>"
            ]
          },
          "metadata": {
            "tags": []
          }
        }
      ]
    }
  ]
}