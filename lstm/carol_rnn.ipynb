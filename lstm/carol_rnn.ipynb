{
  "nbformat": 4,
  "nbformat_minor": 0,
  "metadata": {
    "colab": {
      "name": "carol-rnn.ipynb",
      "provenance": []
    },
    "kernelspec": {
      "name": "python3",
      "display_name": "Python 3"
    },
    "accelerator": "GPU"
  },
  "cells": [
    {
      "cell_type": "code",
      "metadata": {
        "id": "vvydtHQBW0Za",
        "colab_type": "code",
        "colab": {}
      },
      "source": [
        "carol = \"\"\"\n",
        "We wish you a Merry Christmas\n",
        "We wish you a Merry Christmas\n",
        "We wish you a Merry Christmas and a happy New Year\n",
        "Good tidings we bring to you and your kin\n",
        "We wish you a Merry Christmas and a happy New Year\n",
        "Oh, bring us some figgy pudding\n",
        "Oh, bring us some figgy pudding\n",
        "Oh, bring us some figgy pudding\n",
        "And bring it right here\n",
        "Good tidings we bring to you and your kin\n",
        "We wish you a Merry Christmas and a happy New Year\n",
        "We won't go until we get some\n",
        "We won't go until we get some\n",
        "We won't go until we get some\n",
        "So bring it right here\n",
        "Good tidings we bring to you and your kin\n",
        "We wish you a Merry Christmas and a happy New Year\n",
        "We all like our figgy pudding\n",
        "We all like our figgy pudding\n",
        "We all like our figgy pudding\n",
        "With all its good cheers\n",
        "Good tidings we bring to you and your kin\n",
        "We wish you a Merry Christmas and a happy New Year\n",
        "We wish you a Merry Christmas\n",
        "We wish you a Merry Christmas\n",
        "We wish you a Merry Christmas and a happy New Year\n",
        "\"\"\"\n",
        "carol = carol.lower()"
      ],
      "execution_count": 0,
      "outputs": []
    },
    {
      "cell_type": "code",
      "metadata": {
        "id": "UXvzI8plRhZK",
        "colab_type": "code",
        "colab": {
          "base_uri": "https://localhost:8080/",
          "height": 55
        },
        "outputId": "748f16f8-afb7-47e9-ab19-a45bd7efb339"
      },
      "source": [
        "carol = carol.replace(\"\\n\",\" \")\n",
        "carol = carol[1:]\n",
        "carol"
      ],
      "execution_count": 2,
      "outputs": [
        {
          "output_type": "execute_result",
          "data": {
            "text/plain": [
              "\"we wish you a merry christmas we wish you a merry christmas we wish you a merry christmas and a happy new year good tidings we bring to you and your kin we wish you a merry christmas and a happy new year oh, bring us some figgy pudding oh, bring us some figgy pudding oh, bring us some figgy pudding and bring it right here good tidings we bring to you and your kin we wish you a merry christmas and a happy new year we won't go until we get some we won't go until we get some we won't go until we get some so bring it right here good tidings we bring to you and your kin we wish you a merry christmas and a happy new year we all like our figgy pudding we all like our figgy pudding we all like our figgy pudding with all its good cheers good tidings we bring to you and your kin we wish you a merry christmas and a happy new year we wish you a merry christmas we wish you a merry christmas we wish you a merry christmas and a happy new year \""
            ]
          },
          "metadata": {
            "tags": []
          },
          "execution_count": 2
        }
      ]
    },
    {
      "cell_type": "code",
      "metadata": {
        "id": "xTk8RxfyZDkE",
        "colab_type": "code",
        "outputId": "23490468-5cc5-42d4-e1e9-5ff7129bb7ed",
        "colab": {
          "base_uri": "https://localhost:8080/",
          "height": 53
        }
      },
      "source": [
        "chars = sorted(list(set(carol)))\n",
        "char_to_int = dict((c, i) for i, c in enumerate(chars)) #중복제거 매핑\n",
        "n_chars = len(carol)\n",
        "n_vocab = len(chars)\n",
        "print (\"Total Characters: \", n_chars)\n",
        "print (\"Total Vocab: \", n_vocab)"
      ],
      "execution_count": 3,
      "outputs": [
        {
          "output_type": "stream",
          "text": [
            "Total Characters:  942\n",
            "Total Vocab:  24\n"
          ],
          "name": "stdout"
        }
      ]
    },
    {
      "cell_type": "code",
      "metadata": {
        "id": "qMpFhMpKZRiR",
        "colab_type": "code",
        "outputId": "5aa13ee2-32db-4a73-f7d6-2fbf0b90352a",
        "colab": {
          "base_uri": "https://localhost:8080/",
          "height": 35
        }
      },
      "source": [
        "seq_length = 100\n",
        "dataX = []\n",
        "dataY = []\n",
        "\n",
        "for i in range(0, n_chars - seq_length, 1):\n",
        "    seq_in = carol[i:i + seq_length]\n",
        "    seq_out = carol[i + seq_length]\n",
        "    dataX.append([char_to_int[char] for char in seq_in])\n",
        "    dataY.append(char_to_int[seq_out])\n",
        "n_patterns = len(dataX)\n",
        "print (\"Total Patterns: \", n_patterns) "
      ],
      "execution_count": 4,
      "outputs": [
        {
          "output_type": "stream",
          "text": [
            "Total Patterns:  842\n"
          ],
          "name": "stdout"
        }
      ]
    },
    {
      "cell_type": "code",
      "metadata": {
        "id": "1cmhzFXuaDit",
        "colab_type": "code",
        "colab": {
          "base_uri": "https://localhost:8080/",
          "height": 99
        },
        "outputId": "3c3fefb1-857d-4700-af0d-bdfc193e8706"
      },
      "source": [
        "from keras.utils import np_utils\n",
        "import numpy as np\n",
        "\n",
        "x = np.reshape(dataX, (n_patterns, seq_length, 1))\n",
        "x = x / float(n_vocab)\n",
        "y = np_utils.to_categorical(dataY)"
      ],
      "execution_count": 5,
      "outputs": [
        {
          "output_type": "stream",
          "text": [
            "Using TensorFlow backend.\n"
          ],
          "name": "stderr"
        },
        {
          "output_type": "display_data",
          "data": {
            "text/html": [
              "<p style=\"color: red;\">\n",
              "The default version of TensorFlow in Colab will soon switch to TensorFlow 2.x.<br>\n",
              "We recommend you <a href=\"https://www.tensorflow.org/guide/migrate\" target=\"_blank\">upgrade</a> now \n",
              "or ensure your notebook will continue to use TensorFlow 1.x via the <code>%tensorflow_version 1.x</code> magic:\n",
              "<a href=\"https://colab.research.google.com/notebooks/tensorflow_version.ipynb\" target=\"_blank\">more info</a>.</p>\n"
            ],
            "text/plain": [
              "<IPython.core.display.HTML object>"
            ]
          },
          "metadata": {
            "tags": []
          }
        }
      ]
    },
    {
      "cell_type": "code",
      "metadata": {
        "id": "qtIN_2KyWSPD",
        "colab_type": "code",
        "colab": {
          "base_uri": "https://localhost:8080/",
          "height": 307
        },
        "outputId": "f337af3c-e90b-40a8-8ce8-9a8fc7da5dc3"
      },
      "source": [
        "from keras.models import Sequential\n",
        "from keras.layers import Dense, LSTM, Dropout\n",
        "\n",
        "model = Sequential()\n",
        "model.add(LSTM(256, input_shape=(x.shape[1], x.shape[2]), return_sequences=True))\n",
        "model.add(Dropout(0.2))\n",
        "model.add(LSTM(256))\n",
        "model.add(Dropout(0.2))\n",
        "model.add(Dense(y.shape[1], activation='softmax'))\n",
        "model.compile(loss='categorical_crossentropy', optimizer='adam')"
      ],
      "execution_count": 6,
      "outputs": [
        {
          "output_type": "stream",
          "text": [
            "WARNING:tensorflow:From /usr/local/lib/python3.6/dist-packages/keras/backend/tensorflow_backend.py:66: The name tf.get_default_graph is deprecated. Please use tf.compat.v1.get_default_graph instead.\n",
            "\n",
            "WARNING:tensorflow:From /usr/local/lib/python3.6/dist-packages/keras/backend/tensorflow_backend.py:541: The name tf.placeholder is deprecated. Please use tf.compat.v1.placeholder instead.\n",
            "\n",
            "WARNING:tensorflow:From /usr/local/lib/python3.6/dist-packages/keras/backend/tensorflow_backend.py:4432: The name tf.random_uniform is deprecated. Please use tf.random.uniform instead.\n",
            "\n",
            "WARNING:tensorflow:From /usr/local/lib/python3.6/dist-packages/keras/backend/tensorflow_backend.py:148: The name tf.placeholder_with_default is deprecated. Please use tf.compat.v1.placeholder_with_default instead.\n",
            "\n",
            "WARNING:tensorflow:From /usr/local/lib/python3.6/dist-packages/keras/backend/tensorflow_backend.py:3733: calling dropout (from tensorflow.python.ops.nn_ops) with keep_prob is deprecated and will be removed in a future version.\n",
            "Instructions for updating:\n",
            "Please use `rate` instead of `keep_prob`. Rate should be set to `rate = 1 - keep_prob`.\n",
            "WARNING:tensorflow:From /usr/local/lib/python3.6/dist-packages/keras/optimizers.py:793: The name tf.train.Optimizer is deprecated. Please use tf.compat.v1.train.Optimizer instead.\n",
            "\n",
            "WARNING:tensorflow:From /usr/local/lib/python3.6/dist-packages/keras/backend/tensorflow_backend.py:3576: The name tf.log is deprecated. Please use tf.math.log instead.\n",
            "\n"
          ],
          "name": "stdout"
        }
      ]
    },
    {
      "cell_type": "code",
      "metadata": {
        "id": "s6p0674UauK7",
        "colab_type": "code",
        "outputId": "2d64f1aa-0512-4c3f-9ea3-7281592f5a9b",
        "colab": {
          "base_uri": "https://localhost:8080/",
          "height": 1000
        }
      },
      "source": [
        "hist = model.fit(x, y, epochs=100, batch_size=128)"
      ],
      "execution_count": 7,
      "outputs": [
        {
          "output_type": "stream",
          "text": [
            "WARNING:tensorflow:From /usr/local/lib/python3.6/dist-packages/tensorflow_core/python/ops/math_grad.py:1424: where (from tensorflow.python.ops.array_ops) is deprecated and will be removed in a future version.\n",
            "Instructions for updating:\n",
            "Use tf.where in 2.0, which has the same broadcast rule as np.where\n",
            "WARNING:tensorflow:From /usr/local/lib/python3.6/dist-packages/keras/backend/tensorflow_backend.py:1033: The name tf.assign_add is deprecated. Please use tf.compat.v1.assign_add instead.\n",
            "\n",
            "WARNING:tensorflow:From /usr/local/lib/python3.6/dist-packages/keras/backend/tensorflow_backend.py:1020: The name tf.assign is deprecated. Please use tf.compat.v1.assign instead.\n",
            "\n",
            "WARNING:tensorflow:From /usr/local/lib/python3.6/dist-packages/keras/backend/tensorflow_backend.py:3005: The name tf.Session is deprecated. Please use tf.compat.v1.Session instead.\n",
            "\n",
            "Epoch 1/100\n",
            "WARNING:tensorflow:From /usr/local/lib/python3.6/dist-packages/keras/backend/tensorflow_backend.py:190: The name tf.get_default_session is deprecated. Please use tf.compat.v1.get_default_session instead.\n",
            "\n",
            "WARNING:tensorflow:From /usr/local/lib/python3.6/dist-packages/keras/backend/tensorflow_backend.py:197: The name tf.ConfigProto is deprecated. Please use tf.compat.v1.ConfigProto instead.\n",
            "\n",
            "WARNING:tensorflow:From /usr/local/lib/python3.6/dist-packages/keras/backend/tensorflow_backend.py:207: The name tf.global_variables is deprecated. Please use tf.compat.v1.global_variables instead.\n",
            "\n",
            "WARNING:tensorflow:From /usr/local/lib/python3.6/dist-packages/keras/backend/tensorflow_backend.py:216: The name tf.is_variable_initialized is deprecated. Please use tf.compat.v1.is_variable_initialized instead.\n",
            "\n",
            "WARNING:tensorflow:From /usr/local/lib/python3.6/dist-packages/keras/backend/tensorflow_backend.py:223: The name tf.variables_initializer is deprecated. Please use tf.compat.v1.variables_initializer instead.\n",
            "\n",
            "842/842 [==============================] - 4s 5ms/step - loss: 3.1015\n",
            "Epoch 2/100\n",
            "842/842 [==============================] - 2s 2ms/step - loss: 2.9506\n",
            "Epoch 3/100\n",
            "842/842 [==============================] - 2s 2ms/step - loss: 2.8768\n",
            "Epoch 4/100\n",
            "842/842 [==============================] - 2s 2ms/step - loss: 2.8565\n",
            "Epoch 5/100\n",
            "842/842 [==============================] - 2s 2ms/step - loss: 2.8402\n",
            "Epoch 6/100\n",
            "842/842 [==============================] - 2s 2ms/step - loss: 2.8345\n",
            "Epoch 7/100\n",
            "842/842 [==============================] - 2s 2ms/step - loss: 2.8325\n",
            "Epoch 8/100\n",
            "842/842 [==============================] - 2s 2ms/step - loss: 2.8268\n",
            "Epoch 9/100\n",
            "842/842 [==============================] - 2s 2ms/step - loss: 2.8310\n",
            "Epoch 10/100\n",
            "842/842 [==============================] - 2s 2ms/step - loss: 2.8278\n",
            "Epoch 11/100\n",
            "842/842 [==============================] - 2s 2ms/step - loss: 2.8224\n",
            "Epoch 12/100\n",
            "842/842 [==============================] - 2s 2ms/step - loss: 2.8320\n",
            "Epoch 13/100\n",
            "842/842 [==============================] - 2s 2ms/step - loss: 2.8225\n",
            "Epoch 14/100\n",
            "842/842 [==============================] - 2s 2ms/step - loss: 2.8327\n",
            "Epoch 15/100\n",
            "842/842 [==============================] - 2s 2ms/step - loss: 2.8269\n",
            "Epoch 16/100\n",
            "842/842 [==============================] - 2s 2ms/step - loss: 2.8209\n",
            "Epoch 17/100\n",
            "842/842 [==============================] - 2s 2ms/step - loss: 2.8176\n",
            "Epoch 18/100\n",
            "842/842 [==============================] - 2s 2ms/step - loss: 2.8259\n",
            "Epoch 19/100\n",
            "842/842 [==============================] - 2s 2ms/step - loss: 2.8184\n",
            "Epoch 20/100\n",
            "842/842 [==============================] - 2s 2ms/step - loss: 2.8198\n",
            "Epoch 21/100\n",
            "842/842 [==============================] - 2s 2ms/step - loss: 2.8204\n",
            "Epoch 22/100\n",
            "842/842 [==============================] - 2s 2ms/step - loss: 2.8128\n",
            "Epoch 23/100\n",
            "842/842 [==============================] - 2s 2ms/step - loss: 2.8184\n",
            "Epoch 24/100\n",
            "842/842 [==============================] - 2s 2ms/step - loss: 2.8090\n",
            "Epoch 25/100\n",
            "842/842 [==============================] - 2s 2ms/step - loss: 2.8155\n",
            "Epoch 26/100\n",
            "842/842 [==============================] - 2s 2ms/step - loss: 2.8129\n",
            "Epoch 27/100\n",
            "842/842 [==============================] - 2s 2ms/step - loss: 2.7920\n",
            "Epoch 28/100\n",
            "842/842 [==============================] - 2s 2ms/step - loss: 2.7794\n",
            "Epoch 29/100\n",
            "842/842 [==============================] - 2s 2ms/step - loss: 2.7633\n",
            "Epoch 30/100\n",
            "842/842 [==============================] - 2s 2ms/step - loss: 2.7629\n",
            "Epoch 31/100\n",
            "842/842 [==============================] - 2s 2ms/step - loss: 2.7522\n",
            "Epoch 32/100\n",
            "842/842 [==============================] - 2s 2ms/step - loss: 2.7290\n",
            "Epoch 33/100\n",
            "842/842 [==============================] - 2s 2ms/step - loss: 2.7247\n",
            "Epoch 34/100\n",
            "842/842 [==============================] - 2s 2ms/step - loss: 2.7070\n",
            "Epoch 35/100\n",
            "842/842 [==============================] - 2s 2ms/step - loss: 2.6804\n",
            "Epoch 36/100\n",
            "842/842 [==============================] - 2s 2ms/step - loss: 2.6722\n",
            "Epoch 37/100\n",
            "842/842 [==============================] - 2s 2ms/step - loss: 2.6195\n",
            "Epoch 38/100\n",
            "842/842 [==============================] - 2s 2ms/step - loss: 2.5900\n",
            "Epoch 39/100\n",
            "842/842 [==============================] - 2s 2ms/step - loss: 2.5682\n",
            "Epoch 40/100\n",
            "842/842 [==============================] - 2s 2ms/step - loss: 2.5286\n",
            "Epoch 41/100\n",
            "842/842 [==============================] - 2s 2ms/step - loss: 2.4652\n",
            "Epoch 42/100\n",
            "842/842 [==============================] - 2s 2ms/step - loss: 2.4353\n",
            "Epoch 43/100\n",
            "842/842 [==============================] - 2s 2ms/step - loss: 2.3981\n",
            "Epoch 44/100\n",
            "842/842 [==============================] - 2s 2ms/step - loss: 2.3632\n",
            "Epoch 45/100\n",
            "842/842 [==============================] - 2s 2ms/step - loss: 2.2999\n",
            "Epoch 46/100\n",
            "842/842 [==============================] - 2s 2ms/step - loss: 2.2047\n",
            "Epoch 47/100\n",
            "842/842 [==============================] - 2s 2ms/step - loss: 2.1013\n",
            "Epoch 48/100\n",
            "842/842 [==============================] - 2s 2ms/step - loss: 2.0469\n",
            "Epoch 49/100\n",
            "842/842 [==============================] - 2s 2ms/step - loss: 1.9638\n",
            "Epoch 50/100\n",
            "842/842 [==============================] - 2s 2ms/step - loss: 1.8701\n",
            "Epoch 51/100\n",
            "842/842 [==============================] - 2s 2ms/step - loss: 1.7253\n",
            "Epoch 52/100\n",
            "842/842 [==============================] - 2s 2ms/step - loss: 1.5968\n",
            "Epoch 53/100\n",
            "842/842 [==============================] - 2s 2ms/step - loss: 1.4796\n",
            "Epoch 54/100\n",
            "842/842 [==============================] - 2s 2ms/step - loss: 1.3820\n",
            "Epoch 55/100\n",
            "842/842 [==============================] - 2s 2ms/step - loss: 1.2808\n",
            "Epoch 56/100\n",
            "842/842 [==============================] - 2s 2ms/step - loss: 1.2034\n",
            "Epoch 57/100\n",
            "842/842 [==============================] - 2s 2ms/step - loss: 1.1025\n",
            "Epoch 58/100\n",
            "842/842 [==============================] - 2s 2ms/step - loss: 1.0025\n",
            "Epoch 59/100\n",
            "842/842 [==============================] - 2s 2ms/step - loss: 0.9068\n",
            "Epoch 60/100\n",
            "842/842 [==============================] - 2s 2ms/step - loss: 0.8372\n",
            "Epoch 61/100\n",
            "842/842 [==============================] - 2s 2ms/step - loss: 0.7693\n",
            "Epoch 62/100\n",
            "842/842 [==============================] - 2s 2ms/step - loss: 0.7131\n",
            "Epoch 63/100\n",
            "842/842 [==============================] - 2s 2ms/step - loss: 0.6493\n",
            "Epoch 64/100\n",
            "842/842 [==============================] - 2s 2ms/step - loss: 0.5906\n",
            "Epoch 65/100\n",
            "842/842 [==============================] - 2s 2ms/step - loss: 0.5362\n",
            "Epoch 66/100\n",
            "842/842 [==============================] - 2s 2ms/step - loss: 0.5048\n",
            "Epoch 67/100\n",
            "842/842 [==============================] - 2s 2ms/step - loss: 0.4675\n",
            "Epoch 68/100\n",
            "842/842 [==============================] - 2s 2ms/step - loss: 0.4261\n",
            "Epoch 69/100\n",
            "842/842 [==============================] - 2s 2ms/step - loss: 0.3969\n",
            "Epoch 70/100\n",
            "842/842 [==============================] - 2s 2ms/step - loss: 0.3721\n",
            "Epoch 71/100\n",
            "842/842 [==============================] - 2s 2ms/step - loss: 0.3281\n",
            "Epoch 72/100\n",
            "842/842 [==============================] - 2s 2ms/step - loss: 0.3040\n",
            "Epoch 73/100\n",
            "842/842 [==============================] - 2s 2ms/step - loss: 0.2838\n",
            "Epoch 74/100\n",
            "842/842 [==============================] - 2s 2ms/step - loss: 0.2626\n",
            "Epoch 75/100\n",
            "842/842 [==============================] - 2s 2ms/step - loss: 0.2368\n",
            "Epoch 76/100\n",
            "842/842 [==============================] - 2s 2ms/step - loss: 0.2276\n",
            "Epoch 77/100\n",
            "842/842 [==============================] - 2s 2ms/step - loss: 0.2125\n",
            "Epoch 78/100\n",
            "842/842 [==============================] - 2s 2ms/step - loss: 0.2088\n",
            "Epoch 79/100\n",
            "842/842 [==============================] - 2s 2ms/step - loss: 0.1923\n",
            "Epoch 80/100\n",
            "842/842 [==============================] - 2s 2ms/step - loss: 0.1832\n",
            "Epoch 81/100\n",
            "842/842 [==============================] - 2s 2ms/step - loss: 0.1750\n",
            "Epoch 82/100\n",
            "842/842 [==============================] - 2s 2ms/step - loss: 0.1644\n",
            "Epoch 83/100\n",
            "842/842 [==============================] - 2s 2ms/step - loss: 0.2369\n",
            "Epoch 84/100\n",
            "842/842 [==============================] - 2s 2ms/step - loss: 0.4347\n",
            "Epoch 85/100\n",
            "842/842 [==============================] - 2s 2ms/step - loss: 0.8736\n",
            "Epoch 86/100\n",
            "842/842 [==============================] - 2s 2ms/step - loss: 0.6418\n",
            "Epoch 87/100\n",
            "842/842 [==============================] - 2s 2ms/step - loss: 0.3850\n",
            "Epoch 88/100\n",
            "842/842 [==============================] - 2s 2ms/step - loss: 0.2941\n",
            "Epoch 89/100\n",
            "842/842 [==============================] - 2s 2ms/step - loss: 0.2350\n",
            "Epoch 90/100\n",
            "842/842 [==============================] - 2s 2ms/step - loss: 0.1947\n",
            "Epoch 91/100\n",
            "842/842 [==============================] - 2s 2ms/step - loss: 0.1630\n",
            "Epoch 92/100\n",
            "842/842 [==============================] - 2s 2ms/step - loss: 0.1568\n",
            "Epoch 93/100\n",
            "842/842 [==============================] - 2s 2ms/step - loss: 0.1512\n",
            "Epoch 94/100\n",
            "842/842 [==============================] - 2s 2ms/step - loss: 0.1342\n",
            "Epoch 95/100\n",
            "842/842 [==============================] - 2s 2ms/step - loss: 0.1236\n",
            "Epoch 96/100\n",
            "842/842 [==============================] - 2s 2ms/step - loss: 0.1224\n",
            "Epoch 97/100\n",
            "842/842 [==============================] - 2s 2ms/step - loss: 0.1127\n",
            "Epoch 98/100\n",
            "842/842 [==============================] - 2s 2ms/step - loss: 0.1232\n",
            "Epoch 99/100\n",
            "842/842 [==============================] - 2s 2ms/step - loss: 0.1088\n",
            "Epoch 100/100\n",
            "842/842 [==============================] - 2s 2ms/step - loss: 0.1016\n"
          ],
          "name": "stdout"
        }
      ]
    },
    {
      "cell_type": "code",
      "metadata": {
        "id": "mHZ2fKNka_Bc",
        "colab_type": "code",
        "outputId": "13ff1acb-0e0e-4ad4-a4b7-a952e934aa8a",
        "colab": {
          "base_uri": "https://localhost:8080/",
          "height": 89
        }
      },
      "source": [
        "import sys\n",
        "int_to_char = dict((i, c) for i, c in enumerate(chars))\n",
        "\n",
        "start = np.random.randint(0, len(dataX)-1)\n",
        "pattern = dataX[start]\n",
        "print (\"Seed:\")\n",
        "print (\"\\\"\", ''.join([int_to_char[value] for value in pattern]), \"\\\"\")\n",
        "# generate characters\n",
        "for i in range(100):\n",
        "    x = np.reshape(pattern, (1, len(pattern), 1))\n",
        "    x = x / float(n_vocab)\n",
        "    prediction = model.predict(x, verbose=0)\n",
        "    index = np.argmax(prediction)\n",
        "    result = int_to_char[index]\n",
        "    seq_in = [int_to_char[value] for value in pattern]\n",
        "    sys.stdout.write(result)\n",
        "    pattern.append(index)\n",
        "    pattern = pattern[1:len(pattern)]\n",
        "print (\"\\nDone.\")"
      ],
      "execution_count": 9,
      "outputs": [
        {
          "output_type": "stream",
          "text": [
            "Seed:\n",
            "\" d a happy new year we won't go until we get some we won't go until we get some we won't go until we  \"\n",
            "get some we won't go until we get some we won't go until we get some we won't go until we get some w\n",
            "Done.\n"
          ],
          "name": "stdout"
        }
      ]
    }
  ]
}